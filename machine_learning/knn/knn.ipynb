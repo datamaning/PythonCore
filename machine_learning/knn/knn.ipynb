{
 "cells": [
  {
   "cell_type": "code",
   "execution_count": 5,
   "metadata": {
    "collapsed": false
   },
   "outputs": [],
   "source": [
    "from numpy import *\n",
    "groups=array([[1.0,1.0],[1.1,1.0],[0,0],[0,0.1]])\n",
    "labels=array(['A','A','B','B'])\n"
   ]
  },
  {
   "cell_type": "code",
   "execution_count": 16,
   "metadata": {
    "collapsed": false
   },
   "outputs": [],
   "source": [
    "dataSetSize=groups.shape[0]\n",
    "diffMat=tile([0,0.1],(dataSetSize,1))-groups"
   ]
  },
  {
   "cell_type": "code",
   "execution_count": 35,
   "metadata": {
    "collapsed": false
   },
   "outputs": [
    {
     "name": "stdout",
     "output_type": "stream",
     "text": [
      "[ 1.81  2.02  0.01  0.  ] [[ 1.    0.81]\n",
      " [ 1.21  0.81]\n",
      " [ 0.    0.01]\n",
      " [ 0.    0.  ]]\n",
      "[3 2 0 1]\n",
      "1 B\n",
      "2 B\n",
      "1 A\n"
     ]
    }
   ],
   "source": [
    "import operator\n",
    "sqDiffMat=diffMat**2\n",
    "sqDistances=sqDiffMat.sum(axis=1)\n",
    "print sqDistances,sqDiffMat\n",
    "distances=sqDistances**0.5\n",
    "sortedDistIndicies=distances.argsort()\n",
    "print sortedDistIndicies\n",
    "classCount={}\n",
    "for i in range(3):\n",
    "    voteIlabel=labels[sortedDistIndicies[i]]\n",
    "    classCount[voteIlabel]=classCount.get(voteIlabel,0)+1\n",
    "    print classCount[voteIlabel],voteIlabel\n",
    "sortedClassCount=sorted(classCount.iteritems(),key=operator.itemgetter(1),reverse=True)"
   ]
  },
  {
   "cell_type": "code",
   "execution_count": 36,
   "metadata": {
    "collapsed": false
   },
   "outputs": [
    {
     "name": "stdout",
     "output_type": "stream",
     "text": [
      "B\n"
     ]
    }
   ],
   "source": [
    "print sortedClassCount[0][0]"
   ]
  },
  {
   "cell_type": "code",
   "execution_count": null,
   "metadata": {
    "collapsed": true
   },
   "outputs": [],
   "source": []
  }
 ],
 "metadata": {
  "kernelspec": {
   "display_name": "Python 2",
   "language": "python",
   "name": "python2"
  },
  "language_info": {
   "codemirror_mode": {
    "name": "ipython",
    "version": 2
   },
   "file_extension": ".py",
   "mimetype": "text/x-python",
   "name": "python",
   "nbconvert_exporter": "python",
   "pygments_lexer": "ipython2",
   "version": "2.7.10"
  }
 },
 "nbformat": 4,
 "nbformat_minor": 2
}
